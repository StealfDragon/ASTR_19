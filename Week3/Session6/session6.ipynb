{
 "cells": [
  {
   "cell_type": "markdown",
   "id": "9023fd9a",
   "metadata": {},
   "source": [
    "Below - Sin function - uses math.sin for sin math."
   ]
  },
  {
   "cell_type": "code",
   "execution_count": 1,
   "id": "c4b43665",
   "metadata": {},
   "outputs": [],
   "source": [
    "import math\n",
    "def sinFunc(x):\n",
    "    return math.sin(x)"
   ]
  },
  {
   "cell_type": "markdown",
   "id": "12ca5185",
   "metadata": {},
   "source": [
    "Below - Cosine function - uses math.cos for cosine math."
   ]
  },
  {
   "cell_type": "code",
   "execution_count": 2,
   "id": "f82e50ce",
   "metadata": {},
   "outputs": [],
   "source": [
    "import math\n",
    "def cosFunc(x):\n",
    "    return math.cos(x)"
   ]
  },
  {
   "cell_type": "markdown",
   "id": "d01cec01",
   "metadata": {},
   "source": [
    "Below - Tabulate function - Tabulates 1 thousand values (evenly spaced) between 0 and 2pi.\n",
    "\n",
    "Also appends every value to a list for later use."
   ]
  },
  {
   "cell_type": "code",
   "execution_count": null,
   "id": "f13a6c60",
   "metadata": {},
   "outputs": [],
   "source": [
    "xList = []\n",
    "sinList = []\n",
    "cosList = []\n",
    "\n",
    "def tabulate():\n",
    "    x = 0.0\n",
    "    print(\"-----------------------------\")\n",
    "    print(\"|             |             |\")\n",
    "    print(\"|    sin(x)   |    cos(x)   |\")\n",
    "    print(\"|             |             |\")\n",
    "    print(\"-----------------------------\")\n",
    "    while(x <= (2 * math.pi)):\n",
    "        xList.append(x)\n",
    "        sinList.append(sinFunc(x))\n",
    "        cosList.append(cosFunc(x))\n",
    "        print(\"| %-11.9f | %-11.9f |\" % (sinFunc(x), cosFunc(x)))\n",
    "        print(\"-----------------------------\")\n",
    "        x += (2 * math.pi / 1000)\n",
    "tabulate()"
   ]
  },
  {
   "cell_type": "markdown",
   "id": "bad4a9ad",
   "metadata": {},
   "source": [
    "Below - Second tabulation function, which tabulates only the first 10 values from our 0 to 2pi function above, using the lists created earlier to do so."
   ]
  },
  {
   "cell_type": "code",
   "execution_count": 6,
   "id": "5300af6f",
   "metadata": {},
   "outputs": [
    {
     "name": "stdout",
     "output_type": "stream",
     "text": [
      "-------------------------------------------\n",
      "|             |             |             |\n",
      "|      x      |    sin(x)   |    cos(x)   |\n",
      "|             |             |             |\n",
      "-------------------------------------------\n",
      "| 0.000000000 | 0.000000000 | 1.000000000 |\n",
      "-------------------------------------------\n",
      "| 0.006283185 | 0.006283144 | 0.999980261 |\n",
      "-------------------------------------------\n",
      "| 0.012566371 | 0.012566040 | 0.999921044 |\n",
      "-------------------------------------------\n",
      "| 0.018849556 | 0.018848440 | 0.999822352 |\n",
      "-------------------------------------------\n",
      "| 0.025132741 | 0.025130095 | 0.999684189 |\n",
      "-------------------------------------------\n",
      "| 0.031415927 | 0.031410759 | 0.999506560 |\n",
      "-------------------------------------------\n",
      "| 0.037699112 | 0.037690183 | 0.999289473 |\n",
      "-------------------------------------------\n",
      "| 0.043982297 | 0.043968118 | 0.999032935 |\n",
      "-------------------------------------------\n",
      "| 0.050265482 | 0.050244318 | 0.998736957 |\n",
      "-------------------------------------------\n",
      "| 0.056548668 | 0.056518534 | 0.998401550 |\n",
      "-------------------------------------------\n"
     ]
    }
   ],
   "source": [
    "print(\"-------------------------------------------\")\n",
    "print(\"|             |             |             |\")\n",
    "print(\"|      x      |    sin(x)   |    cos(x)   |\")\n",
    "print(\"|             |             |             |\")\n",
    "print(\"-------------------------------------------\")\n",
    "\n",
    "for x in range(10):\n",
    "    print(\"| %-11.9f | %-11.9f | %-11.9f |\" % (xList[x], sinList[x], cosList[x]))\n",
    "    print(\"-------------------------------------------\")"
   ]
  }
 ],
 "metadata": {
  "kernelspec": {
   "display_name": "Python 3",
   "language": "python",
   "name": "python3"
  },
  "language_info": {
   "codemirror_mode": {
    "name": "ipython",
    "version": 3
   },
   "file_extension": ".py",
   "mimetype": "text/x-python",
   "name": "python",
   "nbconvert_exporter": "python",
   "pygments_lexer": "ipython3",
   "version": "3.11.7"
  }
 },
 "nbformat": 4,
 "nbformat_minor": 5
}
